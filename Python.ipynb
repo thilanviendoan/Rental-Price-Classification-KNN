{
 "cells": [
  {
   "cell_type": "markdown",
   "id": "7d901a92-2a58-4c7b-8aff-35f70c7a9441",
   "metadata": {},
   "source": [
    "# 1. KNN Implementation in Python (using Scikit-learn)\n"
   ]
  },
  {
   "cell_type": "markdown",
   "id": "31aafee3-3237-4f27-88d0-09c1d50d08ae",
   "metadata": {},
   "source": [
    "## Step 1. Importing Libraries"
   ]
  },
  {
   "cell_type": "code",
   "execution_count": 59,
   "id": "7304bfce-d6ba-4564-92ab-604b2660e6ea",
   "metadata": {},
   "outputs": [],
   "source": [
    "import pandas as pd\n",
    "from sklearn.model_selection import train_test_split\n",
    "from sklearn.preprocessing import StandardScaler\n",
    "from sklearn.neighbors import KNeighborsClassifier\n",
    "from sklearn.metrics import accuracy_score\n"
   ]
  },
  {
   "cell_type": "markdown",
   "id": "7958671f-deb2-4f47-ba3d-498b6da9a15b",
   "metadata": {},
   "source": [
    "## Step 2. Loading the Dataset"
   ]
  },
  {
   "cell_type": "code",
   "execution_count": 60,
   "id": "ea1e88a9-c0ea-4901-aaff-e3cb26301e23",
   "metadata": {},
   "outputs": [
    {
     "data": {
      "text/html": [
       "<div>\n",
       "<style scoped>\n",
       "    .dataframe tbody tr th:only-of-type {\n",
       "        vertical-align: middle;\n",
       "    }\n",
       "\n",
       "    .dataframe tbody tr th {\n",
       "        vertical-align: top;\n",
       "    }\n",
       "\n",
       "    .dataframe thead th {\n",
       "        text-align: right;\n",
       "    }\n",
       "</style>\n",
       "<table border=\"1\" class=\"dataframe\">\n",
       "  <thead>\n",
       "    <tr style=\"text-align: right;\">\n",
       "      <th></th>\n",
       "      <th>id</th>\n",
       "      <th>category</th>\n",
       "      <th>title</th>\n",
       "      <th>body</th>\n",
       "      <th>amenities</th>\n",
       "      <th>bathrooms</th>\n",
       "      <th>bedrooms</th>\n",
       "      <th>currency</th>\n",
       "      <th>fee</th>\n",
       "      <th>has_photo</th>\n",
       "      <th>...</th>\n",
       "      <th>price_display</th>\n",
       "      <th>price_type</th>\n",
       "      <th>square_feet</th>\n",
       "      <th>address</th>\n",
       "      <th>cityname</th>\n",
       "      <th>state</th>\n",
       "      <th>latitude</th>\n",
       "      <th>longitude</th>\n",
       "      <th>source</th>\n",
       "      <th>time</th>\n",
       "    </tr>\n",
       "  </thead>\n",
       "  <tbody>\n",
       "    <tr>\n",
       "      <th>0</th>\n",
       "      <td>5668626895</td>\n",
       "      <td>housing/rent/apartment</td>\n",
       "      <td>Studio apartment 2nd St NE, Uhland Terrace NE,...</td>\n",
       "      <td>This unit is located at second St NE, Uhland T...</td>\n",
       "      <td>NaN</td>\n",
       "      <td>NaN</td>\n",
       "      <td>0.0</td>\n",
       "      <td>USD</td>\n",
       "      <td>No</td>\n",
       "      <td>Thumbnail</td>\n",
       "      <td>...</td>\n",
       "      <td>$790</td>\n",
       "      <td>Monthly</td>\n",
       "      <td>101</td>\n",
       "      <td>NaN</td>\n",
       "      <td>Washington</td>\n",
       "      <td>DC</td>\n",
       "      <td>38.9057</td>\n",
       "      <td>-76.9861</td>\n",
       "      <td>RentLingo</td>\n",
       "      <td>1577359415</td>\n",
       "    </tr>\n",
       "    <tr>\n",
       "      <th>1</th>\n",
       "      <td>5664597177</td>\n",
       "      <td>housing/rent/apartment</td>\n",
       "      <td>Studio apartment 814 Schutte Road</td>\n",
       "      <td>This unit is located at 814 Schutte Road, Evan...</td>\n",
       "      <td>NaN</td>\n",
       "      <td>NaN</td>\n",
       "      <td>1.0</td>\n",
       "      <td>USD</td>\n",
       "      <td>No</td>\n",
       "      <td>Thumbnail</td>\n",
       "      <td>...</td>\n",
       "      <td>$425</td>\n",
       "      <td>Monthly</td>\n",
       "      <td>106</td>\n",
       "      <td>814 Schutte Rd</td>\n",
       "      <td>Evansville</td>\n",
       "      <td>IN</td>\n",
       "      <td>37.9680</td>\n",
       "      <td>-87.6621</td>\n",
       "      <td>RentLingo</td>\n",
       "      <td>1577017063</td>\n",
       "    </tr>\n",
       "    <tr>\n",
       "      <th>2</th>\n",
       "      <td>5668626833</td>\n",
       "      <td>housing/rent/apartment</td>\n",
       "      <td>Studio apartment N Scott St, 14th St N, Arling...</td>\n",
       "      <td>This unit is located at N Scott St, 14th St N,...</td>\n",
       "      <td>NaN</td>\n",
       "      <td>1.0</td>\n",
       "      <td>0.0</td>\n",
       "      <td>USD</td>\n",
       "      <td>No</td>\n",
       "      <td>Thumbnail</td>\n",
       "      <td>...</td>\n",
       "      <td>$1,390</td>\n",
       "      <td>Monthly</td>\n",
       "      <td>107</td>\n",
       "      <td>NaN</td>\n",
       "      <td>Arlington</td>\n",
       "      <td>VA</td>\n",
       "      <td>38.8910</td>\n",
       "      <td>-77.0816</td>\n",
       "      <td>RentLingo</td>\n",
       "      <td>1577359410</td>\n",
       "    </tr>\n",
       "    <tr>\n",
       "      <th>3</th>\n",
       "      <td>5659918074</td>\n",
       "      <td>housing/rent/apartment</td>\n",
       "      <td>Studio apartment 1717 12th Ave</td>\n",
       "      <td>This unit is located at 1717 12th Ave, Seattle...</td>\n",
       "      <td>NaN</td>\n",
       "      <td>1.0</td>\n",
       "      <td>0.0</td>\n",
       "      <td>USD</td>\n",
       "      <td>No</td>\n",
       "      <td>Thumbnail</td>\n",
       "      <td>...</td>\n",
       "      <td>$925</td>\n",
       "      <td>Monthly</td>\n",
       "      <td>116</td>\n",
       "      <td>1717 12th Avenue</td>\n",
       "      <td>Seattle</td>\n",
       "      <td>WA</td>\n",
       "      <td>47.6160</td>\n",
       "      <td>-122.3275</td>\n",
       "      <td>RentLingo</td>\n",
       "      <td>1576667743</td>\n",
       "    </tr>\n",
       "    <tr>\n",
       "      <th>4</th>\n",
       "      <td>5668626759</td>\n",
       "      <td>housing/rent/apartment</td>\n",
       "      <td>Studio apartment Washington Blvd, N Cleveland ...</td>\n",
       "      <td>This unit is located at Washington Blvd, N Cle...</td>\n",
       "      <td>NaN</td>\n",
       "      <td>NaN</td>\n",
       "      <td>0.0</td>\n",
       "      <td>USD</td>\n",
       "      <td>No</td>\n",
       "      <td>Thumbnail</td>\n",
       "      <td>...</td>\n",
       "      <td>$880</td>\n",
       "      <td>Monthly</td>\n",
       "      <td>125</td>\n",
       "      <td>NaN</td>\n",
       "      <td>Arlington</td>\n",
       "      <td>VA</td>\n",
       "      <td>38.8738</td>\n",
       "      <td>-77.1055</td>\n",
       "      <td>RentLingo</td>\n",
       "      <td>1577359401</td>\n",
       "    </tr>\n",
       "  </tbody>\n",
       "</table>\n",
       "<p>5 rows × 22 columns</p>\n",
       "</div>"
      ],
      "text/plain": [
       "           id                category  \\\n",
       "0  5668626895  housing/rent/apartment   \n",
       "1  5664597177  housing/rent/apartment   \n",
       "2  5668626833  housing/rent/apartment   \n",
       "3  5659918074  housing/rent/apartment   \n",
       "4  5668626759  housing/rent/apartment   \n",
       "\n",
       "                                               title  \\\n",
       "0  Studio apartment 2nd St NE, Uhland Terrace NE,...   \n",
       "1                  Studio apartment 814 Schutte Road   \n",
       "2  Studio apartment N Scott St, 14th St N, Arling...   \n",
       "3                     Studio apartment 1717 12th Ave   \n",
       "4  Studio apartment Washington Blvd, N Cleveland ...   \n",
       "\n",
       "                                                body amenities  bathrooms  \\\n",
       "0  This unit is located at second St NE, Uhland T...       NaN        NaN   \n",
       "1  This unit is located at 814 Schutte Road, Evan...       NaN        NaN   \n",
       "2  This unit is located at N Scott St, 14th St N,...       NaN        1.0   \n",
       "3  This unit is located at 1717 12th Ave, Seattle...       NaN        1.0   \n",
       "4  This unit is located at Washington Blvd, N Cle...       NaN        NaN   \n",
       "\n",
       "   bedrooms currency fee  has_photo  ... price_display  price_type  \\\n",
       "0       0.0      USD  No  Thumbnail  ...          $790     Monthly   \n",
       "1       1.0      USD  No  Thumbnail  ...          $425     Monthly   \n",
       "2       0.0      USD  No  Thumbnail  ...        $1,390     Monthly   \n",
       "3       0.0      USD  No  Thumbnail  ...          $925     Monthly   \n",
       "4       0.0      USD  No  Thumbnail  ...          $880     Monthly   \n",
       "\n",
       "  square_feet           address    cityname state latitude longitude  \\\n",
       "0         101               NaN  Washington    DC  38.9057  -76.9861   \n",
       "1         106    814 Schutte Rd  Evansville    IN  37.9680  -87.6621   \n",
       "2         107               NaN   Arlington    VA  38.8910  -77.0816   \n",
       "3         116  1717 12th Avenue     Seattle    WA  47.6160 -122.3275   \n",
       "4         125               NaN   Arlington    VA  38.8738  -77.1055   \n",
       "\n",
       "      source        time  \n",
       "0  RentLingo  1577359415  \n",
       "1  RentLingo  1577017063  \n",
       "2  RentLingo  1577359410  \n",
       "3  RentLingo  1576667743  \n",
       "4  RentLingo  1577359401  \n",
       "\n",
       "[5 rows x 22 columns]"
      ]
     },
     "execution_count": 60,
     "metadata": {},
     "output_type": "execute_result"
    }
   ],
   "source": [
    "# Load the dataset\n",
    "df = pd.read_csv(\"./apartments_for_rent_classified_10K.csv\", sep=\";\", encoding='cp1252')\n",
    "df.head()"
   ]
  },
  {
   "cell_type": "markdown",
   "id": "da87d5b6-02bb-43ac-a525-c6ca428c54ff",
   "metadata": {},
   "source": [
    "## Step 3. Data Preprocessing"
   ]
  },
  {
   "cell_type": "code",
   "execution_count": 61,
   "id": "466fc6ef-18b8-4066-86ff-bec531e9d36a",
   "metadata": {},
   "outputs": [
    {
     "name": "stdout",
     "output_type": "stream",
     "text": [
      "            id                category  \\\n",
      "2   5668626833  housing/rent/apartment   \n",
      "3   5659918074  housing/rent/apartment   \n",
      "5   5667891676  housing/rent/apartment   \n",
      "8   5668610290  housing/rent/apartment   \n",
      "14  5664571820  housing/rent/apartment   \n",
      "\n",
      "                                                title  \\\n",
      "2   Studio apartment N Scott St, 14th St N, Arling...   \n",
      "3                      Studio apartment 1717 12th Ave   \n",
      "5                           0 BR in New York NY 10019   \n",
      "8                        Studio apartment 333 Hyde St   \n",
      "14                  Studio apartment 57 Taylor Street   \n",
      "\n",
      "                                                 body  \\\n",
      "2   This unit is located at N Scott St, 14th St N,...   \n",
      "3   This unit is located at 1717 12th Ave, Seattle...   \n",
      "5   **RARE GEM WITH PRIVATE OUTDOOR TERRACE****AVA...   \n",
      "8   This unit is located at 333 Hyde St, San Franc...   \n",
      "14  This unit is located at 57 Taylor Street, San ...   \n",
      "\n",
      "                                      amenities  bathrooms  bedrooms currency  \\\n",
      "2                                           NaN        1.0       0.0      USD   \n",
      "3                                           NaN        1.0       0.0      USD   \n",
      "5   Dishwasher,Elevator,Patio/Deck,Pool,Storage        1.0       0.0      USD   \n",
      "8                                  Refrigerator        1.0       0.0      USD   \n",
      "14                                 Refrigerator        1.0       0.0      USD   \n",
      "\n",
      "   fee  has_photo  ... price_display  price_type square_feet  \\\n",
      "2   No  Thumbnail  ...        $1,390     Monthly         107   \n",
      "3   No  Thumbnail  ...          $925     Monthly         116   \n",
      "5   No  Thumbnail  ...        $2,475     Monthly         130   \n",
      "8   No  Thumbnail  ...        $1,495     Monthly         138   \n",
      "14  No  Thumbnail  ...        $1,695     Monthly         190   \n",
      "\n",
      "             address       cityname state latitude longitude     source  \\\n",
      "2                NaN      Arlington    VA  38.8910  -77.0816  RentLingo   \n",
      "3   1717 12th Avenue        Seattle    WA  47.6160 -122.3275  RentLingo   \n",
      "5   350 West 50th St      Manhattan    NY  40.7629  -73.9885   Listanza   \n",
      "8        333 Hyde St  San Francisco    CA  37.7599 -122.4379  RentLingo   \n",
      "14      57 Taylor St  San Francisco    CA  37.7599 -122.4379  RentLingo   \n",
      "\n",
      "          time  \n",
      "2   1577359410  \n",
      "3   1576667743  \n",
      "5   1577289784  \n",
      "8   1577358313  \n",
      "14  1577015121  \n",
      "\n",
      "[5 rows x 22 columns]\n"
     ]
    }
   ],
   "source": [
    "# Drop rows with missing values in key numerical columns\n",
    "numerical_cols = ['bathrooms', 'bedrooms', 'price', 'square_feet', 'latitude', 'longitude']\n",
    "df_cleaned = df.dropna(subset=numerical_cols)\n",
    "\n",
    "# Display the cleaned dataset to ensure the cleaning worked\n",
    "print(df_cleaned.head())"
   ]
  },
  {
   "cell_type": "code",
   "execution_count": 76,
   "id": "cbfc8be7-a7e9-4917-9b70-80b88230204d",
   "metadata": {},
   "outputs": [
    {
     "name": "stderr",
     "output_type": "stream",
     "text": [
      "/var/folders/9b/m40fbxm571v1n3jg1ts0_lyh0000gn/T/ipykernel_68260/2531837683.py:2: SettingWithCopyWarning: \n",
      "A value is trying to be set on a copy of a slice from a DataFrame.\n",
      "Try using .loc[row_indexer,col_indexer] = value instead\n",
      "\n",
      "See the caveats in the documentation: https://pandas.pydata.org/pandas-docs/stable/user_guide/indexing.html#returning-a-view-versus-a-copy\n",
      "  df_cleaned['price_segment'] = pd.qcut(df['price'], q=3, labels=['low', 'medium', 'high'])\n"
     ]
    }
   ],
   "source": [
    "# Create price segments\n",
    "df_cleaned['price_segment'] = pd.qcut(df['price'], q=3, labels=['low', 'medium', 'high'])"
   ]
  },
  {
   "cell_type": "code",
   "execution_count": 77,
   "id": "b2af4c4c-c96e-4573-8608-174bb4dd85d8",
   "metadata": {},
   "outputs": [],
   "source": [
    "# Select features and target variable\n",
    "X = df_cleaned[['square_feet', 'bathrooms', 'bedrooms']]\n",
    "y = df_cleaned['price_segment']\n",
    "\n",
    "# Split the dataset into training and testing sets\n",
    "X_train, X_test, y_train, y_test = train_test_split(X, y, test_size=0.2, random_state=42)\n",
    "\n",
    "# Standardize the features\n",
    "scaler = StandardScaler()\n",
    "X_train_scaled = scaler.fit_transform(X_train)\n",
    "X_test_scaled = scaler.transform(X_test)"
   ]
  },
  {
   "cell_type": "markdown",
   "id": "a6b8e595-f76e-43fb-81ce-969c952ceeba",
   "metadata": {},
   "source": [
    "## Step 4. Implementing the KNN Model"
   ]
  },
  {
   "cell_type": "code",
   "execution_count": 78,
   "id": "b648598f-29a7-4126-80e0-de1fbaf73c28",
   "metadata": {},
   "outputs": [],
   "source": [
    "# Initialize KNN classifier with k=5\n",
    "knn = KNeighborsClassifier(n_neighbors=5)\n",
    "\n",
    "# Train the model\n",
    "knn.fit(X_train_scaled, y_train)\n",
    "\n",
    "# Predict price segments for the test set\n",
    "y_pred = knn.predict(X_test_scaled)\n"
   ]
  },
  {
   "cell_type": "code",
   "execution_count": 79,
   "id": "40c4ee01-bae3-4d0f-947b-1b206ee277aa",
   "metadata": {},
   "outputs": [
    {
     "name": "stdout",
     "output_type": "stream",
     "text": [
      "Accuracy of KNN in Python: 0.45\n"
     ]
    }
   ],
   "source": [
    "# Calculate the accuracy of the model\n",
    "accuracy = accuracy_score(y_test, y_pred)\n",
    "print(f'Accuracy of KNN in Python: {accuracy:.2f}')\n"
   ]
  },
  {
   "cell_type": "markdown",
   "id": "10a89b49-196b-46c9-9520-44bf94dfd276",
   "metadata": {},
   "source": [
    "## Step 5. Visualizing Results "
   ]
  },
  {
   "cell_type": "markdown",
   "id": "3d2bffd0-697d-4518-a98c-daf2d7a8b516",
   "metadata": {},
   "source": [
    "### 1. Confusion Matrix"
   ]
  },
  {
   "cell_type": "code",
   "execution_count": 80,
   "id": "47b232cc-7688-4791-94a7-e3487fb5ceb3",
   "metadata": {},
   "outputs": [
    {
     "data": {
      "text/plain": [
       "<sklearn.metrics._plot.confusion_matrix.ConfusionMatrixDisplay at 0x1086cb010>"
      ]
     },
     "execution_count": 80,
     "metadata": {},
     "output_type": "execute_result"
    },
    {
     "data": {
      "image/png": "[encoded data removed]",
      "text/plain": [
       "<Figure size 640x480 with 2 Axes>"
      ]
     },
     "metadata": {},
     "output_type": "display_data"
    }
   ],
   "source": [
    "from sklearn.metrics import confusion_matrix, ConfusionMatrixDisplay\n",
    "\n",
    "# Generate the confusion matrix\n",
    "conf_matrix = confusion_matrix(y_test, y_pred)\n",
    "\n",
    "# Visualize the confusion matrix\n",
    "disp = ConfusionMatrixDisplay(confusion_matrix=conf_matrix, display_labels=['low', 'medium', 'high'])\n",
    "disp.plot(cmap='Blues')\n"
   ]
  },
  {
   "cell_type": "markdown",
   "id": "2c29d61b-e3c1-471f-a261-2ea062b8a9a2",
   "metadata": {},
   "source": [
    "### 2. Bar Chart: Segment Distribution"
   ]
  },
  {
   "cell_type": "code",
   "execution_count": 81,
   "id": "e4614872-30e1-4d59-a6ea-1c3c0c13e84a",
   "metadata": {},
   "outputs": [
    {
     "data": {
      "image/png": "[encoded data removed]",
      "text/plain": [
       "<Figure size 800x500 with 1 Axes>"
      ]
     },
     "metadata": {},
     "output_type": "display_data"
    }
   ],
   "source": [
    "import matplotlib.pyplot as plt\n",
    "\n",
    "# Count the number of apartments in each price segment\n",
    "segment_counts = df_cleaned['price_segment'].value_counts()\n",
    "\n",
    "# Plot bar chart\n",
    "plt.figure(figsize=(8, 5))\n",
    "bars = segment_counts.plot(kind='bar', color=['#1f77b4', '#ff7f0e', '#2ca02c'])\n",
    "plt.title('Apartment Distribution by Rental Price Segment')\n",
    "plt.xlabel('Price Segment')\n",
    "plt.ylabel('Number of Apartments')\n",
    "plt.xticks(rotation=0)\n",
    "\n",
    "# Annotate bars with counts\n",
    "for bar in bars.patches:\n",
    "    plt.annotate(format(bar.get_height(), '.0f'), \n",
    "                 (bar.get_x() + bar.get_width() / 2, bar.get_height()), \n",
    "                 ha='center', va='center', \n",
    "                 size=10, xytext=(0, 8), \n",
    "                 textcoords='offset points')\n",
    "\n",
    "plt.show()"
   ]
  },
  {
   "cell_type": "markdown",
   "id": "aea7494f-b340-42b2-bf3f-a603ad41aeb4",
   "metadata": {},
   "source": [
    "### 3. Evaluation Metrics (Precision, Recall, F1-Score)"
   ]
  },
  {
   "cell_type": "code",
   "execution_count": 82,
   "id": "f3278b62-47e1-4311-a777-ad055205b221",
   "metadata": {},
   "outputs": [
    {
     "name": "stdout",
     "output_type": "stream",
     "text": [
      "              precision    recall  f1-score   support\n",
      "\n",
      "         low       0.46      0.52      0.49       682\n",
      "      medium       0.49      0.56      0.52       654\n",
      "        high       0.39      0.28      0.32       654\n",
      "\n",
      "    accuracy                           0.45      1990\n",
      "   macro avg       0.45      0.45      0.45      1990\n",
      "weighted avg       0.45      0.45      0.45      1990\n",
      "\n"
     ]
    }
   ],
   "source": [
    "# Import classification_report for precision, recall, and F1-score\n",
    "from sklearn.metrics import classification_report\n",
    "\n",
    "# Print the classification report\n",
    "print(classification_report(y_test, y_pred, target_names=['low', 'medium', 'high']))\n"
   ]
  },
  {
   "cell_type": "code",
   "execution_count": null,
   "id": "7a0c18b0-fec4-4be8-a5eb-dc0e777680d0",
   "metadata": {},
   "outputs": [],
   "source": []
  },
  {
   "cell_type": "code",
   "execution_count": null,
   "id": "ffa1728e-baa3-4024-88db-2bdbcbce9900",
   "metadata": {},
   "outputs": [],
   "source": []
  }
 ],
 "metadata": {
  "kernelspec": {
   "display_name": "Python 3 (ipykernel)",
   "language": "python",
   "name": "python3"
  },
  "language_info": {
   "codemirror_mode": {
    "name": "ipython",
    "version": 3
   },
   "file_extension": ".py",
   "mimetype": "text/x-python",
   "name": "python",
   "nbconvert_exporter": "python",
   "pygments_lexer": "ipython3",
   "version": "3.11.8"
  }
 },
 "nbformat": 4,
 "nbformat_minor": 5
}
